{
  "cells": [
    {
      "cell_type": "markdown",
      "metadata": {
        "id": "view-in-github",
        "colab_type": "text"
      },
      "source": [
        "<a href=\"https://colab.research.google.com/github/Manishgadhave/Data-Science/blob/main/RL_Copy_of_Cartpole_Actor_Critic_Practice.ipynb\" target=\"_parent\"><img src=\"https://colab.research.google.com/assets/colab-badge.svg\" alt=\"Open In Colab\"/></a>"
      ]
    },
    {
      "cell_type": "markdown",
      "metadata": {
        "id": "p62G8M_viUJp"
      },
      "source": [
        "# Playing CartPole with the Actor-Critic Method\n"
      ]
    },
    {
      "cell_type": "code",
      "source": [
        "#Please copy this notebook and run it.\n",
        "#Go to File menu of this notebook and click on save a copy in drive. Copy of this colab notebook will be opened. Run the copy version where you can edit too.\n",
        "#if want to know more about cartpole actor crtic:https://www.youtube.com/watch?v=LawaN3BdI00"
      ],
      "metadata": {
        "id": "Y-DkE5-RgNUA"
      },
      "execution_count": 1,
      "outputs": []
    },
    {
      "cell_type": "code",
      "execution_count": 2,
      "metadata": {
        "id": "13l6BbxKhCKp",
        "colab": {
          "base_uri": "https://localhost:8080/"
        },
        "outputId": "4d03729c-41f6-438d-914f-4948cc6342e5"
      },
      "outputs": [
        {
          "output_type": "stream",
          "name": "stdout",
          "text": [
            "Requirement already satisfied: gym in /usr/local/lib/python3.10/dist-packages (0.25.2)\n",
            "Requirement already satisfied: numpy>=1.18.0 in /usr/local/lib/python3.10/dist-packages (from gym) (1.26.4)\n",
            "Requirement already satisfied: cloudpickle>=1.2.0 in /usr/local/lib/python3.10/dist-packages (from gym) (2.2.1)\n",
            "Requirement already satisfied: gym-notices>=0.0.4 in /usr/local/lib/python3.10/dist-packages (from gym) (0.0.8)\n",
            "Collecting pyglet\n",
            "  Downloading pyglet-2.0.16-py3-none-any.whl.metadata (7.9 kB)\n",
            "Downloading pyglet-2.0.16-py3-none-any.whl (929 kB)\n",
            "\u001b[2K   \u001b[90m━━━━━━━━━━━━━━━━━━━━━━━━━━━━━━━━━━━━━━━━\u001b[0m \u001b[32m929.1/929.1 kB\u001b[0m \u001b[31m13.4 MB/s\u001b[0m eta \u001b[36m0:00:00\u001b[0m\n",
            "\u001b[?25hInstalling collected packages: pyglet\n",
            "Successfully installed pyglet-2.0.16\n"
          ]
        }
      ],
      "source": [
        "!pip install gym\n",
        "!pip install pyglet"
      ]
    },
    {
      "cell_type": "code",
      "execution_count": 3,
      "metadata": {
        "id": "WBeQhPi2S4m5"
      },
      "outputs": [],
      "source": [
        "%%bash\n",
        "# Install additional packages for visualization\n",
        "sudo apt-get install -y xvfb python-opengl > /dev/null 2>&1\n",
        "pip install pyvirtualdisplay > /dev/null 2>&1\n",
        "pip install git+https://github.com/tensorflow/docs > /dev/null 2>&1"
      ]
    },
    {
      "cell_type": "code",
      "execution_count": 4,
      "metadata": {
        "id": "tT4N3qYviUJr",
        "colab": {
          "base_uri": "https://localhost:8080/"
        },
        "outputId": "4051fbf2-9249-4020-b4ac-966677bbd9f0"
      },
      "outputs": [
        {
          "output_type": "stream",
          "name": "stderr",
          "text": [
            "/usr/local/lib/python3.10/dist-packages/gym/envs/registration.py:593: UserWarning: \u001b[33mWARN: The environment CartPole-v0 is out of date. You should consider upgrading to version `v1`.\u001b[0m\n",
            "  logger.warn(\n",
            "/usr/local/lib/python3.10/dist-packages/gym/core.py:317: DeprecationWarning: \u001b[33mWARN: Initializing wrapper in old step API which returns one bool instead of two. It is recommended to set `new_step_api=True` to use new step API. This will be the default behaviour in future.\u001b[0m\n",
            "  deprecation(\n",
            "/usr/local/lib/python3.10/dist-packages/gym/wrappers/step_api_compatibility.py:39: DeprecationWarning: \u001b[33mWARN: Initializing environment in old step API which returns one bool instead of two. It is recommended to set `new_step_api=True` to use new step API. This will be the default behaviour in future.\u001b[0m\n",
            "  deprecation(\n",
            "/usr/local/lib/python3.10/dist-packages/gym/core.py:256: DeprecationWarning: \u001b[33mWARN: Function `env.seed(seed)` is marked as deprecated and will be removed in the future. Please use `env.reset(seed=seed)` instead.\u001b[0m\n",
            "  deprecation(\n"
          ]
        }
      ],
      "source": [
        "import collections\n",
        "import gym\n",
        "import numpy as np\n",
        "import statistics\n",
        "import tensorflow as tf\n",
        "import tqdm\n",
        "\n",
        "from matplotlib import pyplot as plt\n",
        "from tensorflow.keras import layers\n",
        "from typing import Any, List, Sequence, Tuple\n",
        "\n",
        "# Create the environment\n",
        "env = gym.make(\"CartPole-v0\")\n",
        "\n",
        "# Set seed for experiment reproducibility\n",
        "seed = 42\n",
        "env.seed(seed)\n",
        "tf.random.set_seed(seed)\n",
        "np.random.seed(seed)\n",
        "\n",
        "\n",
        "# Small epsilon value for stabilizing division operations\n",
        "eps = np.finfo(np.float32).eps.item()"
      ]
    },
    {
      "cell_type": "markdown",
      "metadata": {
        "id": "AOUCe2D0iUJu"
      },
      "source": [
        "## Model\n",
        "\n",
        "The *Actor* and *Critic* will be modeled using one neural network that generates the action probabilities and critic value respectively. This tutorial uses model subclassing to define the model.\n",
        "\n",
        "\n"
      ]
    },
    {
      "cell_type": "code",
      "execution_count": 5,
      "metadata": {
        "id": "aXKbbMC-kmuv",
        "colab": {
          "base_uri": "https://localhost:8080/"
        },
        "outputId": "76191f8a-20af-40d9-9631-52ab0a6b564c"
      },
      "outputs": [
        {
          "output_type": "stream",
          "name": "stderr",
          "text": [
            "/usr/local/lib/python3.10/dist-packages/ipykernel/ipkernel.py:283: DeprecationWarning: `should_run_async` will not call `transform_cell` automatically in the future. Please pass the result to `transformed_cell` argument and any exception that happen during thetransform in `preprocessing_exc_tuple` in IPython 7.17 and above.\n",
            "  and should_run_async(code)\n"
          ]
        }
      ],
      "source": [
        "class ActorCritic(tf.keras.Model):\n",
        "  \"\"\"Combined actor-critic network.\"\"\"\n",
        "\n",
        "  def __init__(\n",
        "      self,\n",
        "      num_actions: int,\n",
        "      num_hidden_units: int):\n",
        "    \"\"\"Initialize.\"\"\"\n",
        "    super().__init__()\n",
        "\n",
        "    self.common = layers.Dense(num_hidden_units, activation=\"relu\")\n",
        "    self.actor = layers.Dense(num_actions)\n",
        "    self.critic = layers.Dense(1)\n",
        "\n",
        "  def call(self, inputs: tf.Tensor) -> Tuple[tf.Tensor, tf.Tensor]:\n",
        "    x = self.common(inputs)\n",
        "    return self.actor(x), self.critic(x)"
      ]
    },
    {
      "cell_type": "code",
      "execution_count": 6,
      "metadata": {
        "id": "nWyxJgjLn68c"
      },
      "outputs": [],
      "source": [
        "num_actions = env.action_space.n  # 2\n",
        "num_hidden_units = 128\n",
        "\n",
        "model = ActorCritic(num_actions, num_hidden_units)"
      ]
    },
    {
      "cell_type": "markdown",
      "metadata": {
        "id": "hk92njFziUJw"
      },
      "source": [
        "## Training\n",
        "\n"
      ]
    },
    {
      "cell_type": "markdown",
      "metadata": {
        "id": "R2nde2XDs8Gh"
      },
      "source": [
        "### 1. Collecting training data\n",
        "\n"
      ]
    },
    {
      "cell_type": "code",
      "execution_count": 7,
      "metadata": {
        "id": "5URrbGlDSAGx"
      },
      "outputs": [],
      "source": [
        "# Wrap OpenAI Gym's `env.step` call as an operation in a TensorFlow function.\n",
        "# This would allow it to be included in a callable TensorFlow graph.\n",
        "\n",
        "def env_step(action: np.ndarray) -> Tuple[np.ndarray, np.ndarray, np.ndarray]:\n",
        "  \"\"\"Returns state, reward and done flag given an action.\"\"\"\n",
        "\n",
        "  state, reward, done, _ = env.step(action)\n",
        "  return (state.astype(np.float32),\n",
        "          np.array(reward, np.int32),\n",
        "          np.array(done, np.int32))\n",
        "\n",
        "\n",
        "def tf_env_step(action: tf.Tensor) -> List[tf.Tensor]:\n",
        "  return tf.numpy_function(env_step, [action],\n",
        "                           [tf.float32, tf.int32, tf.int32])"
      ]
    },
    {
      "cell_type": "code",
      "execution_count": 8,
      "metadata": {
        "id": "a4qVRV063Cl9"
      },
      "outputs": [],
      "source": [
        "def run_episode(\n",
        "    initial_state: tf.Tensor,\n",
        "    model: tf.keras.Model,\n",
        "    max_steps: int) -> Tuple[tf.Tensor, tf.Tensor, tf.Tensor]:\n",
        "  \"\"\"Runs a single episode to collect training data.\"\"\"\n",
        "\n",
        "  action_probs = tf.TensorArray(dtype=tf.float32, size=0, dynamic_size=True)\n",
        "  values = tf.TensorArray(dtype=tf.float32, size=0, dynamic_size=True)\n",
        "  rewards = tf.TensorArray(dtype=tf.int32, size=0, dynamic_size=True)\n",
        "\n",
        "  initial_state_shape = initial_state.shape\n",
        "  state = initial_state\n",
        "\n",
        "  for t in tf.range(max_steps):\n",
        "    # Convert state into a batched tensor (batch size = 1)\n",
        "    state = tf.expand_dims(state, 0)\n",
        "\n",
        "    # Run the model and to get action probabilities and critic value\n",
        "    action_logits_t, value = model(state)\n",
        "\n",
        "    # Sample next action from the action probability distribution\n",
        "    action = tf.random.categorical(action_logits_t, 1)[0, 0]\n",
        "    action_probs_t = tf.nn.softmax(action_logits_t)\n",
        "\n",
        "    # Store critic values\n",
        "    values = values.write(t, tf.squeeze(value))\n",
        "\n",
        "    # Store log probability of the action chosen\n",
        "    action_probs = action_probs.write(t, action_probs_t[0, action])\n",
        "\n",
        "    # Apply action to the environment to get next state and reward\n",
        "    state, reward, done = tf_env_step(action)\n",
        "    state.set_shape(initial_state_shape)\n",
        "\n",
        "    # Store reward\n",
        "    rewards = rewards.write(t, reward)\n",
        "\n",
        "    if tf.cast(done, tf.bool):\n",
        "      break\n",
        "\n",
        "  action_probs = action_probs.stack()\n",
        "  values = values.stack()\n",
        "  rewards = rewards.stack()\n",
        "\n",
        "  return action_probs, values, rewards"
      ]
    },
    {
      "cell_type": "code",
      "execution_count": 9,
      "metadata": {
        "id": "jpEwFyl315dl"
      },
      "outputs": [],
      "source": [
        "def get_expected_return(\n",
        "    rewards: tf.Tensor,\n",
        "    gamma: float,\n",
        "    standardize: bool = True) -> tf.Tensor:\n",
        "  \"\"\"Compute expected returns per timestep.\"\"\"\n",
        "\n",
        "  n = tf.shape(rewards)[0]\n",
        "  returns = tf.TensorArray(dtype=tf.float32, size=n)\n",
        "\n",
        "  # Start from the end of `rewards` and accumulate reward sums\n",
        "  # into the `returns` array\n",
        "  rewards = tf.cast(rewards[::-1], dtype=tf.float32)\n",
        "  discounted_sum = tf.constant(0.0)\n",
        "  discounted_sum_shape = discounted_sum.shape\n",
        "  for i in tf.range(n):\n",
        "    reward = rewards[i]\n",
        "    discounted_sum = reward + gamma * discounted_sum\n",
        "    discounted_sum.set_shape(discounted_sum_shape)\n",
        "    returns = returns.write(i, discounted_sum)\n",
        "  returns = returns.stack()[::-1]\n",
        "\n",
        "  if standardize:\n",
        "    returns = ((returns - tf.math.reduce_mean(returns)) /\n",
        "               (tf.math.reduce_std(returns) + eps))\n",
        "\n",
        "  return returns"
      ]
    },
    {
      "cell_type": "code",
      "execution_count": 10,
      "metadata": {
        "id": "9EXwbEez6n9m"
      },
      "outputs": [],
      "source": [
        "huber_loss = tf.keras.losses.Huber(reduction=tf.keras.losses.Reduction.SUM)\n",
        "\n",
        "def compute_loss(\n",
        "    action_probs: tf.Tensor,\n",
        "    values: tf.Tensor,\n",
        "    returns: tf.Tensor) -> tf.Tensor:\n",
        "  \"\"\"Computes the combined actor-critic loss.\"\"\"\n",
        "\n",
        "  advantage = returns - values\n",
        "\n",
        "  action_log_probs = tf.math.log(action_probs)\n",
        "  actor_loss = -tf.math.reduce_sum(action_log_probs * advantage)\n",
        "\n",
        "  critic_loss = huber_loss(values, returns)\n",
        "\n",
        "  return actor_loss + critic_loss"
      ]
    },
    {
      "cell_type": "code",
      "execution_count": 11,
      "metadata": {
        "id": "QoccrkF3IFCg"
      },
      "outputs": [],
      "source": [
        "optimizer = tf.keras.optimizers.Adam(learning_rate=0.01)\n",
        "\n",
        "\n",
        "@tf.function\n",
        "def train_step(\n",
        "    initial_state: tf.Tensor,\n",
        "    model: tf.keras.Model,\n",
        "    optimizer: tf.keras.optimizers.Optimizer,\n",
        "    gamma: float,\n",
        "    max_steps_per_episode: int) -> tf.Tensor:\n",
        "  \"\"\"Runs a model training step.\"\"\"\n",
        "\n",
        "  with tf.GradientTape() as tape:\n",
        "\n",
        "    # Run the model for one episode to collect training data\n",
        "    action_probs, values, rewards = run_episode(\n",
        "        initial_state, model, max_steps_per_episode)\n",
        "\n",
        "    # Calculate expected returns\n",
        "    returns = get_expected_return(rewards, gamma)\n",
        "\n",
        "    # Convert training data to appropriate TF tensor shapes\n",
        "    action_probs, values, returns = [\n",
        "        tf.expand_dims(x, 1) for x in [action_probs, values, returns]]\n",
        "\n",
        "    # Calculating loss values to update our network\n",
        "    loss = compute_loss(action_probs, values, returns)\n",
        "\n",
        "  # Compute the gradients from the loss\n",
        "  grads = tape.gradient(loss, model.trainable_variables)\n",
        "\n",
        "  # Apply the gradients to the model's parameters\n",
        "  optimizer.apply_gradients(zip(grads, model.trainable_variables))\n",
        "\n",
        "  episode_reward = tf.math.reduce_sum(rewards)\n",
        "\n",
        "  return episode_reward"
      ]
    },
    {
      "cell_type": "code",
      "execution_count": 12,
      "metadata": {
        "id": "kbmBxnzLiUJx",
        "colab": {
          "base_uri": "https://localhost:8080/"
        },
        "outputId": "1df0e166-2ab6-4faa-d679-d2ae6bd1d6af"
      },
      "outputs": [
        {
          "output_type": "stream",
          "name": "stderr",
          "text": [
            "\r  0%|          | 0/2000 [00:00<?, ?it/s]/usr/local/lib/python3.10/dist-packages/gym/utils/passive_env_checker.py:241: DeprecationWarning: `np.bool8` is a deprecated alias for `np.bool_`.  (Deprecated NumPy 1.24)\n",
            "  if not isinstance(terminated, (bool, np.bool8)):\n",
            "Episode 637:  32%|███▏      | 637/2000 [03:19<07:06,  3.19it/s, episode_reward=200, running_reward=198]"
          ]
        },
        {
          "output_type": "stream",
          "name": "stdout",
          "text": [
            "\n",
            "Solved at episode 637: average reward: 198.13!\n",
            "CPU times: user 4min 10s, sys: 26.1 s, total: 4min 37s\n",
            "Wall time: 3min 19s\n"
          ]
        },
        {
          "output_type": "stream",
          "name": "stderr",
          "text": [
            "\n"
          ]
        }
      ],
      "source": [
        "%%time\n",
        "#you can play around with all these hyperparameters\n",
        "min_episodes_criterion = 100\n",
        "max_episodes = 2000\n",
        "max_steps_per_episode = 1000\n",
        "\n",
        "# Cartpole-v0 is considered solved if average reward is >= 195 over 100\n",
        "# consecutive trials\n",
        "reward_threshold = 198\n",
        "running_reward = 0\n",
        "\n",
        "# Discount factor for future rewards\n",
        "gamma = 0.99\n",
        "\n",
        "# Keep last episodes reward\n",
        "episodes_reward: collections.deque = collections.deque(maxlen=min_episodes_criterion)\n",
        "\n",
        "with tqdm.trange(max_episodes) as t:\n",
        "  for i in t:\n",
        "    initial_state = tf.constant(env.reset(), dtype=tf.float32)\n",
        "    episode_reward = int(train_step(\n",
        "        initial_state, model, optimizer, gamma, max_steps_per_episode))\n",
        "\n",
        "    episodes_reward.append(episode_reward)\n",
        "    running_reward = statistics.mean(episodes_reward)\n",
        "\n",
        "    t.set_description(f'Episode {i}')\n",
        "    t.set_postfix(\n",
        "        episode_reward=episode_reward, running_reward=running_reward)\n",
        "\n",
        "    # Show average episode reward every 10 episodes\n",
        "    if i % 10 == 0:\n",
        "      pass # print(f'Episode {i}: average reward: {avg_reward}')\n",
        "\n",
        "    if running_reward > reward_threshold and i >= min_episodes_criterion:\n",
        "        break\n",
        "\n",
        "print(f'\\nSolved at episode {i}: average reward: {running_reward:.2f}!')"
      ]
    },
    {
      "cell_type": "markdown",
      "metadata": {
        "id": "ru8BEwS1EmAv"
      },
      "source": [
        "## Visualization\n"
      ]
    },
    {
      "cell_type": "code",
      "source": [
        "!apt-get install xvfb"
      ],
      "metadata": {
        "colab": {
          "base_uri": "https://localhost:8080/"
        },
        "id": "_0_QeRvEJZJw",
        "outputId": "6acf0bb0-3873-4864-ab7b-c97b7825a3ca"
      },
      "execution_count": 14,
      "outputs": [
        {
          "output_type": "stream",
          "name": "stdout",
          "text": [
            "Reading package lists... Done\n",
            "Building dependency tree... Done\n",
            "Reading state information... Done\n",
            "The following additional packages will be installed:\n",
            "  libfontenc1 libxfont2 libxkbfile1 x11-xkb-utils xfonts-base xfonts-encodings xfonts-utils\n",
            "  xserver-common\n",
            "The following NEW packages will be installed:\n",
            "  libfontenc1 libxfont2 libxkbfile1 x11-xkb-utils xfonts-base xfonts-encodings xfonts-utils\n",
            "  xserver-common xvfb\n",
            "0 upgraded, 9 newly installed, 0 to remove and 45 not upgraded.\n",
            "Need to get 7,813 kB of archives.\n",
            "After this operation, 11.9 MB of additional disk space will be used.\n",
            "Get:1 http://archive.ubuntu.com/ubuntu jammy/main amd64 libfontenc1 amd64 1:1.1.4-1build3 [14.7 kB]\n",
            "Get:2 http://archive.ubuntu.com/ubuntu jammy/main amd64 libxfont2 amd64 1:2.0.5-1build1 [94.5 kB]\n",
            "Get:3 http://archive.ubuntu.com/ubuntu jammy/main amd64 libxkbfile1 amd64 1:1.1.0-1build3 [71.8 kB]\n",
            "Get:4 http://archive.ubuntu.com/ubuntu jammy/main amd64 x11-xkb-utils amd64 7.7+5build4 [172 kB]\n",
            "Get:5 http://archive.ubuntu.com/ubuntu jammy/main amd64 xfonts-encodings all 1:1.0.5-0ubuntu2 [578 kB]\n",
            "Get:6 http://archive.ubuntu.com/ubuntu jammy/main amd64 xfonts-utils amd64 1:7.7+6build2 [94.6 kB]\n",
            "Get:7 http://archive.ubuntu.com/ubuntu jammy/main amd64 xfonts-base all 1:1.0.5 [5,896 kB]\n",
            "Get:8 http://archive.ubuntu.com/ubuntu jammy-updates/main amd64 xserver-common all 2:21.1.4-2ubuntu1.7~22.04.11 [28.6 kB]\n",
            "Get:9 http://archive.ubuntu.com/ubuntu jammy-updates/universe amd64 xvfb amd64 2:21.1.4-2ubuntu1.7~22.04.11 [863 kB]\n",
            "Fetched 7,813 kB in 1s (9,197 kB/s)\n",
            "Selecting previously unselected package libfontenc1:amd64.\n",
            "(Reading database ... 123588 files and directories currently installed.)\n",
            "Preparing to unpack .../0-libfontenc1_1%3a1.1.4-1build3_amd64.deb ...\n",
            "Unpacking libfontenc1:amd64 (1:1.1.4-1build3) ...\n",
            "Selecting previously unselected package libxfont2:amd64.\n",
            "Preparing to unpack .../1-libxfont2_1%3a2.0.5-1build1_amd64.deb ...\n",
            "Unpacking libxfont2:amd64 (1:2.0.5-1build1) ...\n",
            "Selecting previously unselected package libxkbfile1:amd64.\n",
            "Preparing to unpack .../2-libxkbfile1_1%3a1.1.0-1build3_amd64.deb ...\n",
            "Unpacking libxkbfile1:amd64 (1:1.1.0-1build3) ...\n",
            "Selecting previously unselected package x11-xkb-utils.\n",
            "Preparing to unpack .../3-x11-xkb-utils_7.7+5build4_amd64.deb ...\n",
            "Unpacking x11-xkb-utils (7.7+5build4) ...\n",
            "Selecting previously unselected package xfonts-encodings.\n",
            "Preparing to unpack .../4-xfonts-encodings_1%3a1.0.5-0ubuntu2_all.deb ...\n",
            "Unpacking xfonts-encodings (1:1.0.5-0ubuntu2) ...\n",
            "Selecting previously unselected package xfonts-utils.\n",
            "Preparing to unpack .../5-xfonts-utils_1%3a7.7+6build2_amd64.deb ...\n",
            "Unpacking xfonts-utils (1:7.7+6build2) ...\n",
            "Selecting previously unselected package xfonts-base.\n",
            "Preparing to unpack .../6-xfonts-base_1%3a1.0.5_all.deb ...\n",
            "Unpacking xfonts-base (1:1.0.5) ...\n",
            "Selecting previously unselected package xserver-common.\n",
            "Preparing to unpack .../7-xserver-common_2%3a21.1.4-2ubuntu1.7~22.04.11_all.deb ...\n",
            "Unpacking xserver-common (2:21.1.4-2ubuntu1.7~22.04.11) ...\n",
            "Selecting previously unselected package xvfb.\n",
            "Preparing to unpack .../8-xvfb_2%3a21.1.4-2ubuntu1.7~22.04.11_amd64.deb ...\n",
            "Unpacking xvfb (2:21.1.4-2ubuntu1.7~22.04.11) ...\n",
            "Setting up libfontenc1:amd64 (1:1.1.4-1build3) ...\n",
            "Setting up xfonts-encodings (1:1.0.5-0ubuntu2) ...\n",
            "Setting up libxkbfile1:amd64 (1:1.1.0-1build3) ...\n",
            "Setting up libxfont2:amd64 (1:2.0.5-1build1) ...\n",
            "Setting up x11-xkb-utils (7.7+5build4) ...\n",
            "Setting up xfonts-utils (1:7.7+6build2) ...\n",
            "Setting up xfonts-base (1:1.0.5) ...\n",
            "Setting up xserver-common (2:21.1.4-2ubuntu1.7~22.04.11) ...\n",
            "Setting up xvfb (2:21.1.4-2ubuntu1.7~22.04.11) ...\n",
            "Processing triggers for man-db (2.10.2-1) ...\n",
            "Processing triggers for fontconfig (2.13.1-4.2ubuntu5) ...\n",
            "Processing triggers for libc-bin (2.35-0ubuntu3.4) ...\n",
            "/sbin/ldconfig.real: /usr/local/lib/libtbbbind_2_0.so.3 is not a symbolic link\n",
            "\n",
            "/sbin/ldconfig.real: /usr/local/lib/libtbbbind.so.3 is not a symbolic link\n",
            "\n",
            "/sbin/ldconfig.real: /usr/local/lib/libur_loader.so.0 is not a symbolic link\n",
            "\n",
            "/sbin/ldconfig.real: /usr/local/lib/libtbbbind_2_5.so.3 is not a symbolic link\n",
            "\n",
            "/sbin/ldconfig.real: /usr/local/lib/libur_adapter_opencl.so.0 is not a symbolic link\n",
            "\n",
            "/sbin/ldconfig.real: /usr/local/lib/libtbbmalloc_proxy.so.2 is not a symbolic link\n",
            "\n",
            "/sbin/ldconfig.real: /usr/local/lib/libtbb.so.12 is not a symbolic link\n",
            "\n",
            "/sbin/ldconfig.real: /usr/local/lib/libur_adapter_level_zero.so.0 is not a symbolic link\n",
            "\n",
            "/sbin/ldconfig.real: /usr/local/lib/libtbbmalloc.so.2 is not a symbolic link\n",
            "\n"
          ]
        }
      ]
    },
    {
      "cell_type": "code",
      "execution_count": 15,
      "metadata": {
        "id": "qbIMMkfmRHyC",
        "colab": {
          "base_uri": "https://localhost:8080/"
        },
        "outputId": "94491938-cfce-45cd-a217-33e939cf00c0"
      },
      "outputs": [
        {
          "output_type": "stream",
          "name": "stderr",
          "text": [
            "/usr/local/lib/python3.10/dist-packages/gym/core.py:43: DeprecationWarning: \u001b[33mWARN: The argument mode in render method is deprecated; use render_mode during environment initialization instead.\n",
            "See here for more information: https://www.gymlibrary.ml/content/api/\u001b[0m\n",
            "  deprecation(\n"
          ]
        }
      ],
      "source": [
        "# Render an episode and save as a GIF file\n",
        "\n",
        "from IPython import display as ipythondisplay\n",
        "from PIL import Image\n",
        "from pyvirtualdisplay import Display\n",
        "\n",
        "\n",
        "display = Display(visible=0, size=(400, 300))\n",
        "display.start()\n",
        "\n",
        "\n",
        "def render_episode(env: gym.Env, model: tf.keras.Model, max_steps: int):\n",
        "  screen = env.render(mode='rgb_array')\n",
        "  im = Image.fromarray(screen)\n",
        "\n",
        "  images = [im]\n",
        "\n",
        "  state = tf.constant(env.reset(), dtype=tf.float32)\n",
        "  for i in range(1, max_steps + 1):\n",
        "    state = tf.expand_dims(state, 0)\n",
        "    action_probs, _ = model(state)\n",
        "    action = np.argmax(np.squeeze(action_probs))\n",
        "\n",
        "    state, _, done, _ = env.step(action)\n",
        "    state = tf.constant(state, dtype=tf.float32)\n",
        "\n",
        "    # Render screen every 10 steps\n",
        "    if i % 10 == 0:\n",
        "      screen = env.render(mode='rgb_array')\n",
        "      images.append(Image.fromarray(screen))\n",
        "\n",
        "    if done:\n",
        "      break\n",
        "\n",
        "  return images\n",
        "\n",
        "\n",
        "# Save GIF image\n",
        "images = render_episode(env, model, max_steps_per_episode)\n",
        "image_file = 'cartpole-v0.gif'\n",
        "# loop=0: loop forever, duration=1: play each frame for 1ms\n",
        "images[0].save(\n",
        "    image_file, save_all=True, append_images=images[1:], loop=0, duration=1)"
      ]
    },
    {
      "cell_type": "code",
      "execution_count": 16,
      "metadata": {
        "id": "TLd720SejKmf",
        "colab": {
          "base_uri": "https://localhost:8080/",
          "height": 421
        },
        "outputId": "e71d7088-2bc4-41a8-bbc9-9f3db7a1d4ee"
      },
      "outputs": [
        {
          "output_type": "execute_result",
          "data": {
            "text/plain": [
              "<IPython.core.display.HTML object>"
            ],
            "text/html": [
              "<img src=\"data:image/gif;base64,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\"/>"
            ]
          },
          "metadata": {},
          "execution_count": 16
        }
      ],
      "source": [
        "import tensorflow_docs.vis.embed as embed\n",
        "embed.embed_file(image_file)"
      ]
    },
    {
      "cell_type": "code",
      "source": [],
      "metadata": {
        "id": "UAAxsohWEnhS"
      },
      "execution_count": null,
      "outputs": []
    }
  ],
  "metadata": {
    "colab": {
      "provenance": [],
      "include_colab_link": true
    },
    "kernelspec": {
      "display_name": "Python 3",
      "name": "python3"
    },
    "accelerator": "GPU"
  },
  "nbformat": 4,
  "nbformat_minor": 0
}