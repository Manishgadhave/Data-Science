{
 "cells": [
  {
   "cell_type": "markdown",
   "id": "df17354d-1e72-4f52-893c-a2fdededa22b",
   "metadata": {},
   "source": [
    "# Spam email classifier\n",
    "in this project, I have build a spam email classifier that can tell whether a given email is \n",
    "a spam email or not based on the email's content"
   ]
  },
  {
   "cell_type": "markdown",
   "id": "e3e8ab30-465b-4714-a7ec-c9cb65d9adc9",
   "metadata": {},
   "source": [
    "# There are four main parts\n",
    "1. clean the data\n",
    "2. build feature vectors\n",
    "3. Use Naive Bayes Classifier, SVM(linear kernel) and Logistic Regression to training the    data and make predictions\n",
    "4. Compare these models and discuss"
   ]
  },
  {
   "cell_type": "code",
   "execution_count": 4,
   "id": "99b0b17b-4f08-40b2-a478-474656468d01",
   "metadata": {},
   "outputs": [],
   "source": [
    "#importng the modules \n",
    "import numpy as np\n",
    "import pandas as pd\n",
    "import matplotlib.pyplot as plt\n"
   ]
  },
  {
   "cell_type": "code",
   "execution_count": 5,
   "id": "18c7907e-2592-4fad-8c97-98a5c765364a",
   "metadata": {},
   "outputs": [],
   "source": [
    "from sklearn.feature_extraction.text import CountVectorizer\n",
    "from sklearn.naive_bayes import MultinomialNB, GaussianNB\n",
    "from sklearn import svm\n",
    "from sklearn.model_selection import GridSearchCV"
   ]
  },
  {
   "cell_type": "code",
   "execution_count": 6,
   "id": "ba787770-1800-4c95-a3f6-af6f79afcae6",
   "metadata": {},
   "outputs": [],
   "source": [
    "#loading the dataset\n",
    "data = pd.read_csv('spam.csv', encoding='latin-1')"
   ]
  },
  {
   "cell_type": "code",
   "execution_count": 7,
   "id": "33c8fa4b-4627-4dd3-a5f8-fa1c9e48063c",
   "metadata": {},
   "outputs": [],
   "source": [
    "#training and testing data\n",
    "x_data = data['v2']\n",
    "y_data = data['v1']\n",
    "\n",
    "split =(int)(0.8*data.shape[0])\n",
    "x_train=x_data[:split]\n",
    "x_test=x_data[split:]\n",
    "y_train=y_data[:split]\n",
    "y_test=y_data[split:]"
   ]
  },
  {
   "cell_type": "code",
   "execution_count": 8,
   "id": "79691004-3d5e-4641-be2b-7cc460a81fd1",
   "metadata": {},
   "outputs": [],
   "source": [
    "#Extracting Important features\n",
    "count_vector = CountVectorizer()  \n",
    "extracted_features = count_vector.fit_transform(x_train)"
   ]
  },
  {
   "cell_type": "code",
   "execution_count": 9,
   "id": "0a7a38ee-4de8-4b6c-bf47-3e7ca01a7815",
   "metadata": {},
   "outputs": [
    {
     "name": "stdout",
     "output_type": "stream",
     "text": [
      "Model Trained Successfully!\n"
     ]
    }
   ],
   "source": [
    "#Building and training the model\n",
    "tuned_parameters = {'kernel': ['rbf','linear'], 'gamma': [1e-3, 1e-4],'C': [1, 10, 100, 1000]}\n",
    "model = GridSearchCV(svm.SVC(), tuned_parameters)\n",
    "model.fit(extracted_features,y_train)\n",
    " \n",
    "print(\"Model Trained Successfully!\")"
   ]
  },
  {
   "cell_type": "code",
   "execution_count": 10,
   "id": "bbd75b63-3e7f-4ac0-970f-9cb5e00150d9",
   "metadata": {},
   "outputs": [
    {
     "name": "stdout",
     "output_type": "stream",
     "text": [
      "Accuracy of the model is:  98.7443946188341\n"
     ]
    }
   ],
   "source": [
    "print(\"Accuracy of the model is: \",model.score(count_vector.transform(x_test),y_test)*100)"
   ]
  },
  {
   "cell_type": "code",
   "execution_count": null,
   "id": "0e75a14e-dfd4-49b7-98f5-a6e2460faee0",
   "metadata": {},
   "outputs": [],
   "source": []
  }
 ],
 "metadata": {
  "kernelspec": {
   "display_name": "Python 3 (ipykernel)",
   "language": "python",
   "name": "python3"
  },
  "language_info": {
   "codemirror_mode": {
    "name": "ipython",
    "version": 3
   },
   "file_extension": ".py",
   "mimetype": "text/x-python",
   "name": "python",
   "nbconvert_exporter": "python",
   "pygments_lexer": "ipython3",
   "version": "3.12.4"
  }
 },
 "nbformat": 4,
 "nbformat_minor": 5
}
